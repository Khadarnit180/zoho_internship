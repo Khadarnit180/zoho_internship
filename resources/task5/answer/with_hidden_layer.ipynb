{
 "cells": [
  {
   "cell_type": "code",
   "execution_count": 9,
   "metadata": {
    "id": "WvUQCSxeyQfp"
   },
   "outputs": [],
   "source": [
    "import time\n",
    "import torch\n",
    "from torch import nn\n",
    "import torch.nn.functional as F\n",
    "from torchvision import datasets, transforms"
   ]
  },
  {
   "cell_type": "code",
   "execution_count": 8,
   "metadata": {
    "id": "m-BRs5AdytXC"
   },
   "outputs": [],
   "source": [
    "\n",
    "transform = transforms.Compose([transforms.ToTensor(),\n",
    "                                transforms.Normalize((0.5,), (0.5,)),\n",
    "                              ])\n",
    "\n",
    "\n",
    "trainset = datasets.MNIST('~/.pytorch/MNIST_data/', download=True, train=True, transform=transform)\n",
    "trainloader = torch.utils.data.DataLoader(trainset, batch_size=100, shuffle=True)\n",
    "\n",
    "testset=datasets.MNIST('~/.pytorch/MNIST_data/',download=True,train=False,transform=transform)\n",
    "testloader = torch.utils.data.DataLoader(testset, batch_size=100, shuffle=False)\n",
    "\n"
   ]
  },
  {
   "cell_type": "code",
   "execution_count": 4,
   "metadata": {
    "colab": {
     "base_uri": "https://localhost:8080/"
    },
    "id": "4ppeJDUPytgH",
    "outputId": "cb80ef86-7c54-494d-e964-e5532fb8ea99"
   },
   "outputs": [
    {
     "name": "stdout",
     "output_type": "stream",
     "text": [
      "device:cpu\n",
      "model parameters Network(\n",
      "  (hidden): Linear(in_features=784, out_features=256, bias=True)\n",
      "  (output): Linear(in_features=256, out_features=10, bias=True)\n",
      "  (relu): ReLU()\n",
      ")\n"
     ]
    }
   ],
   "source": [
    "\n",
    "class Network(nn.Module):\n",
    "    def __init__(self):\n",
    "        super().__init__()\n",
    "        self.hidden = nn.Linear(784, 256)\n",
    "        self.output = nn.Linear(256, 10)\n",
    "        self.relu = nn.ReLU()\n",
    "        # self.softmax = nn.Softmax(dim=1)\n",
    "    def forward(self, x):\n",
    "        # Pass the input tensor through each of our operations\n",
    "        x = x.view(-1, 28 * 28)\n",
    "        x = self.hidden(x)\n",
    "        x = self.relu(x)\n",
    "        x = self.output(x)\n",
    "        return x\n",
    "    \n",
    "start=time.time()\n",
    "if torch.cuda.is_available():\n",
    "  print(\"device:cuda\")\n",
    "else:\n",
    "  print(\"device:cpu\")\n",
    "model=Network()\n",
    "print(\"model parameters\",model)"
   ]
  },
  {
   "cell_type": "code",
   "execution_count": 5,
   "metadata": {
    "colab": {
     "base_uri": "https://localhost:8080/"
    },
    "id": "LWbjZGruytik",
    "outputId": "7e17d4ac-d432-475e-80e3-5877e29cac2d"
   },
   "outputs": [
    {
     "name": "stdout",
     "output_type": "stream",
     "text": [
      "epoch: 1 , Training loss: 1.7004684209823608,accuracy:47.25,%\n",
      "epoch: 6 , Training loss: 0.532974898815155,accuracy:85.01,%\n",
      "epoch: 11 , Training loss: 0.48912814259529114,accuracy:87.90,%\n",
      "epoch: 16 , Training loss: 0.41795673966407776,accuracy:89.03,%\n",
      "epoch: 21 , Training loss: 0.33771437406539917,accuracy:89.74,%\n",
      "epoch: 26 , Training loss: 0.3219013214111328,accuracy:90.21,%\n",
      "epoch: 31 , Training loss: 0.24719008803367615,accuracy:90.53,%\n"
     ]
    }
   ],
   "source": [
    "#training\n",
    "learning_rate=0.001\n",
    "epochs=31\n",
    "criterion = nn.CrossEntropyLoss()\n",
    "optimizer = torch.optim.SGD(model.parameters(), lr=learning_rate)\n",
    "for e in range(epochs):\n",
    "    correct=0\n",
    "    for (images, labels) in (trainloader):\n",
    "      \n",
    "        optimizer.zero_grad()\n",
    "        output = model(images)\n",
    "        loss = criterion(output, labels)\n",
    "        loss.backward()\n",
    "        optimizer.step()\n",
    "        _,pred=torch.max(output.data,1)\n",
    "      \n",
    "        #total += labels.size(0)\n",
    "        correct+=(pred==labels).sum() \n",
    "    if e%5==0:\n",
    "      print(f\"epoch: {e+1} , Training loss: {loss.item()},accuracy:{(correct/len(trainset))*100:.2f},%\")"
   ]
  },
  {
   "cell_type": "code",
   "execution_count": 6,
   "metadata": {
    "colab": {
     "base_uri": "https://localhost:8080/"
    },
    "id": "nf9pBhmQytlK",
    "outputId": "e8341735-c985-42e9-eb20-9f0c3533b92c"
   },
   "outputs": [
    {
     "name": "stdout",
     "output_type": "stream",
     "text": [
      "accuracy:91.17,%\n",
      "time taken by cpu  397.105770111084\n"
     ]
    }
   ],
   "source": [
    "with torch.no_grad():\n",
    "    #dont calculate grad during testing\n",
    "    correct = 0\n",
    "    for (images, labels) in (testloader):\n",
    "        output = model(images)\n",
    "        _,pred=torch.max(output.data,1)\n",
    "        correct+=(pred==labels).sum()\n",
    "        end=time.time()\n",
    "    print(f\"accuracy:{(correct/len(testset))*100:.2f},%\")\n",
    "    print(\"time taken by cpu \",end-start)"
   ]
  },
  {
   "cell_type": "code",
   "execution_count": 6,
   "metadata": {
    "id": "7gWmCq9sytna"
   },
   "outputs": [],
   "source": []
  }
 ],
 "metadata": {
  "colab": {
   "provenance": []
  },
  "kernelspec": {
   "display_name": "Python 3 (ipykernel)",
   "language": "python",
   "name": "python3"
  },
  "language_info": {
   "codemirror_mode": {
    "name": "ipython",
    "version": 3
   },
   "file_extension": ".py",
   "mimetype": "text/x-python",
   "name": "python",
   "nbconvert_exporter": "python",
   "pygments_lexer": "ipython3",
   "version": "3.10.8"
  }
 },
 "nbformat": 4,
 "nbformat_minor": 1
}
