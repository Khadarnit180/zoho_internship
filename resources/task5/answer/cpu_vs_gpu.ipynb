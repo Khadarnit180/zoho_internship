{
  "cells": [
    {
      "cell_type": "markdown",
      "source": [
        "## *time taken by cpu*"
      ],
      "metadata": {
        "id": "HIKxeGZbwXC1"
      },
      "id": "HIKxeGZbwXC1"
    },
    {
      "cell_type": "code",
      "execution_count": null,
      "metadata": {
        "id": "WvUQCSxeyQfp"
      },
      "outputs": [],
      "source": [
        "import time\n",
        "import torch\n",
        "from torch import nn\n",
        "import torch.nn.functional as F\n",
        "from torchvision import datasets, transforms"
      ],
      "id": "WvUQCSxeyQfp"
    },
    {
      "cell_type": "code",
      "source": [
        "\n",
        "transform = transforms.Compose([transforms.ToTensor(),\n",
        "                                transforms.Normalize((0.5,), (0.5,)),\n",
        "                              ])\n",
        "\n",
        "\n",
        "trainset = datasets.MNIST('~/.pytorch/MNIST_data/', download=True, train=True, transform=transform)\n",
        "trainloader = torch.utils.data.DataLoader(trainset, batch_size=100, shuffle=True)\n",
        "\n",
        "testset=datasets.MNIST('~/.pytorch/MNIST_data/',download=True,train=False,transform=transform)\n",
        "testloader = torch.utils.data.DataLoader(testset, batch_size=100, shuffle=False)\n",
        "\n"
      ],
      "metadata": {
        "id": "m-BRs5AdytXC"
      },
      "execution_count": null,
      "outputs": [],
      "id": "m-BRs5AdytXC"
    },
    {
      "cell_type": "code",
      "source": [
        "\n",
        "class Network(nn.Module):\n",
        "    def __init__(self):\n",
        "        super().__init__()\n",
        "        self.hidden = nn.Linear(784, 256)\n",
        "        self.output = nn.Linear(256, 10)\n",
        "        self.relu = nn.ReLU()\n",
        "        # self.softmax = nn.Softmax(dim=1)\n",
        "    def forward(self, x):\n",
        "        # Pass the input tensor through each of our operations\n",
        "        x = x.view(-1, 28 * 28)\n",
        "        x = self.hidden(x)\n",
        "        x = self.relu(x)\n",
        "        x = self.output(x)\n",
        "        return x\n",
        "    \n",
        "start=time.time()\n",
        "if torch.cuda.is_available():\n",
        "  print(\"device:cuda\")\n",
        "else:\n",
        "  print(\"device:cpu\")\n",
        "model=Network()\n",
        "print(\"model parameters\",model)"
      ],
      "metadata": {
        "colab": {
          "base_uri": "https://localhost:8080/"
        },
        "id": "4ppeJDUPytgH",
        "outputId": "cb80ef86-7c54-494d-e964-e5532fb8ea99"
      },
      "execution_count": null,
      "outputs": [
        {
          "output_type": "stream",
          "name": "stdout",
          "text": [
            "device:cpu\n",
            "model parameters Network(\n",
            "  (hidden): Linear(in_features=784, out_features=256, bias=True)\n",
            "  (output): Linear(in_features=256, out_features=10, bias=True)\n",
            "  (relu): ReLU()\n",
            ")\n"
          ]
        }
      ],
      "id": "4ppeJDUPytgH"
    },
    {
      "cell_type": "code",
      "source": [
        "#training\n",
        "learning_rate=0.001\n",
        "epochs=31\n",
        "criterion = nn.CrossEntropyLoss()\n",
        "optimizer = torch.optim.SGD(model.parameters(), lr=learning_rate)\n",
        "for e in range(epochs):\n",
        "    correct=0\n",
        "    for (images, labels) in (trainloader):\n",
        "      \n",
        "        optimizer.zero_grad()\n",
        "        output = model(images)\n",
        "        loss = criterion(output, labels)\n",
        "        loss.backward()\n",
        "        optimizer.step()\n",
        "        _,pred=torch.max(output.data,1)\n",
        "      \n",
        "        #total += labels.size(0)\n",
        "        correct+=(pred==labels).sum() \n",
        "    if e%5==0:\n",
        "      print(f\"epoch: {e+1} , Training loss: {loss.item()},accuracy:{(correct/len(trainset))*100:.2f},%\")"
      ],
      "metadata": {
        "colab": {
          "base_uri": "https://localhost:8080/"
        },
        "id": "LWbjZGruytik",
        "outputId": "7e17d4ac-d432-475e-80e3-5877e29cac2d"
      },
      "execution_count": null,
      "outputs": [
        {
          "output_type": "stream",
          "name": "stdout",
          "text": [
            "epoch: 1 , Training loss: 1.7004684209823608,accuracy:47.25,%\n",
            "epoch: 6 , Training loss: 0.532974898815155,accuracy:85.01,%\n",
            "epoch: 11 , Training loss: 0.48912814259529114,accuracy:87.90,%\n",
            "epoch: 16 , Training loss: 0.41795673966407776,accuracy:89.03,%\n",
            "epoch: 21 , Training loss: 0.33771437406539917,accuracy:89.74,%\n",
            "epoch: 26 , Training loss: 0.3219013214111328,accuracy:90.21,%\n",
            "epoch: 31 , Training loss: 0.24719008803367615,accuracy:90.53,%\n"
          ]
        }
      ],
      "id": "LWbjZGruytik"
    },
    {
      "cell_type": "code",
      "source": [
        "with torch.no_grad():\n",
        "    #dont calculate grad during testing\n",
        "    correct = 0\n",
        "    for (images, labels) in (testloader):\n",
        "        output = model(images)\n",
        "        _,pred=torch.max(output.data,1)\n",
        "        correct+=(pred==labels).sum()\n",
        "        end=time.time()\n",
        "    print(f\"accuracy:{(correct/len(testset))*100:.2f},%\")\n",
        "    print(\"time taken by cpu \",end-start)"
      ],
      "metadata": {
        "colab": {
          "base_uri": "https://localhost:8080/"
        },
        "id": "nf9pBhmQytlK",
        "outputId": "e8341735-c985-42e9-eb20-9f0c3533b92c"
      },
      "execution_count": null,
      "outputs": [
        {
          "output_type": "stream",
          "name": "stdout",
          "text": [
            "accuracy:91.17,%\n",
            "time taken by cpu  397.105770111084\n"
          ]
        }
      ],
      "id": "nf9pBhmQytlK"
    },
    {
      "cell_type": "markdown",
      "source": [
        "--------------cpu timing:397 seconds"
      ],
      "metadata": {
        "id": "fib1PJVDHO_L"
      },
      "id": "fib1PJVDHO_L"
    },
    {
      "cell_type": "markdown",
      "source": [
        "# ____time   taken by   ***gpu***"
      ],
      "metadata": {
        "id": "9Vk6Ww_2wmX_"
      },
      "id": "9Vk6Ww_2wmX_"
    },
    {
      "cell_type": "code",
      "source": [
        "import time\n",
        "import torch\n",
        "from torch import nn\n",
        "import torch.nn.functional as F\n",
        "from torchvision import datasets, transforms"
      ],
      "metadata": {
        "id": "aRRRPandghjh"
      },
      "id": "aRRRPandghjh",
      "execution_count": 6,
      "outputs": []
    },
    {
      "cell_type": "code",
      "execution_count": 7,
      "id": "33f3603f",
      "metadata": {
        "id": "33f3603f"
      },
      "outputs": [],
      "source": [
        "\n",
        "transform = transforms.Compose([transforms.ToTensor(),\n",
        "                                transforms.Normalize((0.5,), (0.5,)),\n",
        "                              ])\n",
        "\n",
        "\n",
        "trainset = datasets.MNIST('~/.pytorch/MNIST_data/', download=True, train=True, transform=transform)\n",
        "trainloader = torch.utils.data.DataLoader(trainset, batch_size=100, shuffle=True)\n",
        "\n",
        "testset=datasets.MNIST('~/.pytorch/MNIST_data/',download=True,train=False,transform=transform)\n",
        "testloader = torch.utils.data.DataLoader(testset, batch_size=100, shuffle=False)\n",
        "\n"
      ]
    },
    {
      "cell_type": "code",
      "execution_count": 3,
      "id": "32684ca9",
      "metadata": {
        "colab": {
          "base_uri": "https://localhost:8080/"
        },
        "id": "32684ca9",
        "outputId": "62b1d89e-9ccb-4ad0-d46e-b8c97ea7c7bc"
      },
      "outputs": [
        {
          "output_type": "stream",
          "name": "stdout",
          "text": [
            "device:cuda\n",
            "model parameters Network(\n",
            "  (hidden): Linear(in_features=784, out_features=256, bias=True)\n",
            "  (output): Linear(in_features=256, out_features=10, bias=True)\n",
            "  (relu): ReLU()\n",
            ")\n"
          ]
        }
      ],
      "source": [
        "\n",
        "class Network(nn.Module):\n",
        "    def __init__(self):\n",
        "        super().__init__()\n",
        "        self.hidden = nn.Linear(784, 256)\n",
        "        self.output = nn.Linear(256, 10)\n",
        "        self.relu = nn.ReLU()\n",
        "        # self.softmax = nn.Softmax(dim=1)\n",
        "    def forward(self, x):\n",
        "        # Pass the input tensor through each of our operations\n",
        "        x = x.view(-1, 28 * 28)\n",
        "        x = self.hidden(x)\n",
        "        x = self.relu(x)\n",
        "        x = self.output(x)\n",
        "        # x = self.softmax(x)\n",
        "        \n",
        "        return x\n",
        "    \n",
        "start=time.time()\n",
        "if torch.cuda.is_available():\n",
        "  print(\"device:cuda\")\n",
        "else:\n",
        "  print(\"device:cpu\")\n",
        "model=Network().to('cuda')\n",
        "print(\"model parameters\",model)\n"
      ]
    },
    {
      "cell_type": "code",
      "source": [
        "#training\n",
        "learning_rate=0.001\n",
        "epochs=31\n",
        "criterion = nn.CrossEntropyLoss()\n",
        "optimizer = torch.optim.SGD(model.parameters(), lr=learning_rate)\n",
        "for e in range(epochs):\n",
        "    correct=0\n",
        "    for (images, labels) in (trainloader):\n",
        "        images,labels=images.to('cuda'),labels.to('cuda')\n",
        "        optimizer.zero_grad()\n",
        "        output = model(images)\n",
        "        loss = criterion(output, labels)\n",
        "        loss.backward()\n",
        "        optimizer.step()\n",
        "        _,pred=torch.max(output.data,1)\n",
        "      \n",
        "        #total += labels.size(0)\n",
        "        correct+=(pred==labels).sum() \n",
        "    if e%5==0:\n",
        "      print(f\"epoch: {e} , Training loss: {loss.item()},accuracy:{(correct/len(trainset))*100:.2f},%\")"
      ],
      "metadata": {
        "id": "IpgH_005VMk9",
        "colab": {
          "base_uri": "https://localhost:8080/"
        },
        "outputId": "28554345-f998-4ea1-acd7-026db3ec6738"
      },
      "id": "IpgH_005VMk9",
      "execution_count": 4,
      "outputs": [
        {
          "output_type": "stream",
          "name": "stdout",
          "text": [
            "epoch: 0 , Training loss: 1.7691731452941895,accuracy:46.44,%\n",
            "epoch: 5 , Training loss: 0.5561239719390869,accuracy:85.30,%\n",
            "epoch: 10 , Training loss: 0.4498777389526367,accuracy:87.95,%\n",
            "epoch: 15 , Training loss: 0.40806856751441956,accuracy:88.96,%\n",
            "epoch: 20 , Training loss: 0.3391079604625702,accuracy:89.68,%\n",
            "epoch: 25 , Training loss: 0.26834094524383545,accuracy:90.18,%\n",
            "epoch: 30 , Training loss: 0.34557706117630005,accuracy:90.54,%\n"
          ]
        }
      ]
    },
    {
      "cell_type": "code",
      "execution_count": 5,
      "id": "40050124",
      "metadata": {
        "colab": {
          "base_uri": "https://localhost:8080/"
        },
        "id": "40050124",
        "outputId": "9d29ee29-2711-4942-81f1-fd880a9ebc49"
      },
      "outputs": [
        {
          "output_type": "stream",
          "name": "stdout",
          "text": [
            "accuracy:91.01,%\n",
            "time taken by gpu  320.7615430355072\n"
          ]
        }
      ],
      "source": [
        "\n",
        "with torch.no_grad():\n",
        "    #dont calculate grad during testing\n",
        "    correct = 0\n",
        "    for (images, labels) in (testloader):\n",
        "        images,labels=images.to('cuda'),labels.to('cuda')\n",
        "        output = model(images)\n",
        "        _,pred=torch.max(output.data,1)\n",
        "        correct+=(pred==labels).sum()\n",
        "        end=time.time()\n",
        "    print(f\"accuracy:{(correct/len(testset))*100:.2f},%\")\n",
        "    print(\"time taken by gpu \",end-start)"
      ]
    }
  ],
  "metadata": {
    "kernelspec": {
      "display_name": "Python 3 (ipykernel)",
      "language": "python",
      "name": "python3"
    },
    "language_info": {
      "codemirror_mode": {
        "name": "ipython",
        "version": 3
      },
      "file_extension": ".py",
      "mimetype": "text/x-python",
      "name": "python",
      "nbconvert_exporter": "python",
      "pygments_lexer": "ipython3",
      "version": "3.10.8"
    },
    "colab": {
      "provenance": []
    },
    "gpuClass": "standard",
    "accelerator": "GPU"
  },
  "nbformat": 4,
  "nbformat_minor": 5
}