{
 "cells": [
  {
   "cell_type": "code",
   "execution_count": 1,
   "id": "fd106400",
   "metadata": {},
   "outputs": [
    {
     "name": "stderr",
     "output_type": "stream",
     "text": [
      "/home/local/ZOHOCORP/abdul-pt6532/miniconda3/envs/py_torch/lib/python3.10/site-packages/torchvision/models/_utils.py:208: UserWarning: The parameter 'pretrained' is deprecated since 0.13 and may be removed in the future, please use 'weights' instead.\n",
      "  warnings.warn(\n",
      "/home/local/ZOHOCORP/abdul-pt6532/miniconda3/envs/py_torch/lib/python3.10/site-packages/torchvision/models/_utils.py:223: UserWarning: Arguments other than a weight enum or `None` for 'weights' are deprecated since 0.13 and may be removed in the future. The current behavior is equivalent to passing `weights=AlexNet_Weights.IMAGENET1K_V1`. You can also use `weights=AlexNet_Weights.DEFAULT` to get the most up-to-date weights.\n",
      "  warnings.warn(msg)\n"
     ]
    },
    {
     "name": "stdout",
     "output_type": "stream",
     "text": [
      "Exported graph: graph(%actual_input_1 : Float(10, 3, 224, 224, strides=[150528, 50176, 224, 1], requires_grad=0, device=cpu),\n",
      "      %learned_0 : Float(64, 3, 11, 11, strides=[363, 121, 11, 1], requires_grad=1, device=cpu),\n",
      "      %learned_1 : Float(64, strides=[1], requires_grad=1, device=cpu),\n",
      "      %learned_2 : Float(192, 64, 5, 5, strides=[1600, 25, 5, 1], requires_grad=1, device=cpu),\n",
      "      %learned_3 : Float(192, strides=[1], requires_grad=1, device=cpu),\n",
      "      %learned_4 : Float(384, 192, 3, 3, strides=[1728, 9, 3, 1], requires_grad=1, device=cpu),\n",
      "      %learned_5 : Float(384, strides=[1], requires_grad=1, device=cpu),\n",
      "      %learned_6 : Float(256, 384, 3, 3, strides=[3456, 9, 3, 1], requires_grad=1, device=cpu),\n",
      "      %learned_7 : Float(256, strides=[1], requires_grad=1, device=cpu),\n",
      "      %learned_8 : Float(256, 256, 3, 3, strides=[2304, 9, 3, 1], requires_grad=1, device=cpu),\n",
      "      %learned_9 : Float(256, strides=[1], requires_grad=1, device=cpu),\n",
      "      %learned_10 : Float(4096, 9216, strides=[9216, 1], requires_grad=1, device=cpu),\n",
      "      %learned_11 : Float(4096, strides=[1], requires_grad=1, device=cpu),\n",
      "      %learned_12 : Float(4096, 4096, strides=[4096, 1], requires_grad=1, device=cpu),\n",
      "      %learned_13 : Float(4096, strides=[1], requires_grad=1, device=cpu),\n",
      "      %learned_14 : Float(1000, 4096, strides=[4096, 1], requires_grad=1, device=cpu),\n",
      "      %learned_15 : Float(1000, strides=[1], requires_grad=1, device=cpu)):\n",
      "  %/features/features.0/Conv_output_0 : Float(10, 64, 55, 55, strides=[193600, 3025, 55, 1], requires_grad=0, device=cpu) = onnx::Conv[dilations=[1, 1], group=1, kernel_shape=[11, 11], pads=[2, 2, 2, 2], strides=[4, 4], onnx_name=\"/features/features.0/Conv\"](%actual_input_1, %learned_0, %learned_1), scope: torchvision.models.alexnet.AlexNet::/torch.nn.modules.container.Sequential::features/torch.nn.modules.conv.Conv2d::features.0 # /home/local/ZOHOCORP/abdul-pt6532/miniconda3/envs/py_torch/lib/python3.10/site-packages/torch/nn/modules/conv.py:458:0\n",
      "  %/features/features.1/Relu_output_0 : Float(10, 64, 55, 55, strides=[193600, 3025, 55, 1], requires_grad=1, device=cpu) = onnx::Relu[onnx_name=\"/features/features.1/Relu\"](%/features/features.0/Conv_output_0), scope: torchvision.models.alexnet.AlexNet::/torch.nn.modules.container.Sequential::features/torch.nn.modules.activation.ReLU::features.1 # /home/local/ZOHOCORP/abdul-pt6532/miniconda3/envs/py_torch/lib/python3.10/site-packages/torch/nn/functional.py:1453:0\n",
      "  %/features/features.2/MaxPool_output_0 : Float(10, 64, 27, 27, strides=[46656, 729, 27, 1], requires_grad=1, device=cpu) = onnx::MaxPool[ceil_mode=0, kernel_shape=[3, 3], pads=[0, 0, 0, 0], strides=[2, 2], onnx_name=\"/features/features.2/MaxPool\"](%/features/features.1/Relu_output_0), scope: torchvision.models.alexnet.AlexNet::/torch.nn.modules.container.Sequential::features/torch.nn.modules.pooling.MaxPool2d::features.2 # /home/local/ZOHOCORP/abdul-pt6532/miniconda3/envs/py_torch/lib/python3.10/site-packages/torch/nn/functional.py:780:0\n",
      "  %/features/features.3/Conv_output_0 : Float(10, 192, 27, 27, strides=[139968, 729, 27, 1], requires_grad=0, device=cpu) = onnx::Conv[dilations=[1, 1], group=1, kernel_shape=[5, 5], pads=[2, 2, 2, 2], strides=[1, 1], onnx_name=\"/features/features.3/Conv\"](%/features/features.2/MaxPool_output_0, %learned_2, %learned_3), scope: torchvision.models.alexnet.AlexNet::/torch.nn.modules.container.Sequential::features/torch.nn.modules.conv.Conv2d::features.3 # /home/local/ZOHOCORP/abdul-pt6532/miniconda3/envs/py_torch/lib/python3.10/site-packages/torch/nn/modules/conv.py:458:0\n",
      "  %/features/features.4/Relu_output_0 : Float(10, 192, 27, 27, strides=[139968, 729, 27, 1], requires_grad=1, device=cpu) = onnx::Relu[onnx_name=\"/features/features.4/Relu\"](%/features/features.3/Conv_output_0), scope: torchvision.models.alexnet.AlexNet::/torch.nn.modules.container.Sequential::features/torch.nn.modules.activation.ReLU::features.4 # /home/local/ZOHOCORP/abdul-pt6532/miniconda3/envs/py_torch/lib/python3.10/site-packages/torch/nn/functional.py:1453:0\n",
      "  %/features/features.5/MaxPool_output_0 : Float(10, 192, 13, 13, strides=[32448, 169, 13, 1], requires_grad=1, device=cpu) = onnx::MaxPool[ceil_mode=0, kernel_shape=[3, 3], pads=[0, 0, 0, 0], strides=[2, 2], onnx_name=\"/features/features.5/MaxPool\"](%/features/features.4/Relu_output_0), scope: torchvision.models.alexnet.AlexNet::/torch.nn.modules.container.Sequential::features/torch.nn.modules.pooling.MaxPool2d::features.5 # /home/local/ZOHOCORP/abdul-pt6532/miniconda3/envs/py_torch/lib/python3.10/site-packages/torch/nn/functional.py:780:0\n",
      "  %/features/features.6/Conv_output_0 : Float(10, 384, 13, 13, strides=[64896, 169, 13, 1], requires_grad=0, device=cpu) = onnx::Conv[dilations=[1, 1], group=1, kernel_shape=[3, 3], pads=[1, 1, 1, 1], strides=[1, 1], onnx_name=\"/features/features.6/Conv\"](%/features/features.5/MaxPool_output_0, %learned_4, %learned_5), scope: torchvision.models.alexnet.AlexNet::/torch.nn.modules.container.Sequential::features/torch.nn.modules.conv.Conv2d::features.6 # /home/local/ZOHOCORP/abdul-pt6532/miniconda3/envs/py_torch/lib/python3.10/site-packages/torch/nn/modules/conv.py:458:0\n",
      "  %/features/features.7/Relu_output_0 : Float(10, 384, 13, 13, strides=[64896, 169, 13, 1], requires_grad=1, device=cpu) = onnx::Relu[onnx_name=\"/features/features.7/Relu\"](%/features/features.6/Conv_output_0), scope: torchvision.models.alexnet.AlexNet::/torch.nn.modules.container.Sequential::features/torch.nn.modules.activation.ReLU::features.7 # /home/local/ZOHOCORP/abdul-pt6532/miniconda3/envs/py_torch/lib/python3.10/site-packages/torch/nn/functional.py:1453:0\n",
      "  %/features/features.8/Conv_output_0 : Float(10, 256, 13, 13, strides=[43264, 169, 13, 1], requires_grad=0, device=cpu) = onnx::Conv[dilations=[1, 1], group=1, kernel_shape=[3, 3], pads=[1, 1, 1, 1], strides=[1, 1], onnx_name=\"/features/features.8/Conv\"](%/features/features.7/Relu_output_0, %learned_6, %learned_7), scope: torchvision.models.alexnet.AlexNet::/torch.nn.modules.container.Sequential::features/torch.nn.modules.conv.Conv2d::features.8 # /home/local/ZOHOCORP/abdul-pt6532/miniconda3/envs/py_torch/lib/python3.10/site-packages/torch/nn/modules/conv.py:458:0\n",
      "  %/features/features.9/Relu_output_0 : Float(10, 256, 13, 13, strides=[43264, 169, 13, 1], requires_grad=1, device=cpu) = onnx::Relu[onnx_name=\"/features/features.9/Relu\"](%/features/features.8/Conv_output_0), scope: torchvision.models.alexnet.AlexNet::/torch.nn.modules.container.Sequential::features/torch.nn.modules.activation.ReLU::features.9 # /home/local/ZOHOCORP/abdul-pt6532/miniconda3/envs/py_torch/lib/python3.10/site-packages/torch/nn/functional.py:1453:0\n",
      "  %/features/features.10/Conv_output_0 : Float(10, 256, 13, 13, strides=[43264, 169, 13, 1], requires_grad=0, device=cpu) = onnx::Conv[dilations=[1, 1], group=1, kernel_shape=[3, 3], pads=[1, 1, 1, 1], strides=[1, 1], onnx_name=\"/features/features.10/Conv\"](%/features/features.9/Relu_output_0, %learned_8, %learned_9), scope: torchvision.models.alexnet.AlexNet::/torch.nn.modules.container.Sequential::features/torch.nn.modules.conv.Conv2d::features.10 # /home/local/ZOHOCORP/abdul-pt6532/miniconda3/envs/py_torch/lib/python3.10/site-packages/torch/nn/modules/conv.py:458:0\n",
      "  %/features/features.11/Relu_output_0 : Float(10, 256, 13, 13, strides=[43264, 169, 13, 1], requires_grad=1, device=cpu) = onnx::Relu[onnx_name=\"/features/features.11/Relu\"](%/features/features.10/Conv_output_0), scope: torchvision.models.alexnet.AlexNet::/torch.nn.modules.container.Sequential::features/torch.nn.modules.activation.ReLU::features.11 # /home/local/ZOHOCORP/abdul-pt6532/miniconda3/envs/py_torch/lib/python3.10/site-packages/torch/nn/functional.py:1453:0\n",
      "  %/features/features.12/MaxPool_output_0 : Float(10, 256, 6, 6, strides=[9216, 36, 6, 1], requires_grad=1, device=cpu) = onnx::MaxPool[ceil_mode=0, kernel_shape=[3, 3], pads=[0, 0, 0, 0], strides=[2, 2], onnx_name=\"/features/features.12/MaxPool\"](%/features/features.11/Relu_output_0), scope: torchvision.models.alexnet.AlexNet::/torch.nn.modules.container.Sequential::features/torch.nn.modules.pooling.MaxPool2d::features.12 # /home/local/ZOHOCORP/abdul-pt6532/miniconda3/envs/py_torch/lib/python3.10/site-packages/torch/nn/functional.py:780:0\n",
      "  %/avgpool/AveragePool_output_0 : Float(10, 256, 6, 6, strides=[9216, 36, 6, 1], requires_grad=1, device=cpu) = onnx::AveragePool[kernel_shape=[1, 1], strides=[1, 1], onnx_name=\"/avgpool/AveragePool\"](%/features/features.12/MaxPool_output_0), scope: torchvision.models.alexnet.AlexNet::/torch.nn.modules.pooling.AdaptiveAvgPool2d::avgpool # /home/local/ZOHOCORP/abdul-pt6532/miniconda3/envs/py_torch/lib/python3.10/site-packages/torch/nn/functional.py:1213:0\n",
      "  %/Flatten_output_0 : Float(10, 9216, strides=[9216, 1], requires_grad=1, device=cpu) = onnx::Flatten[axis=1, onnx_name=\"/Flatten\"](%/avgpool/AveragePool_output_0), scope: torchvision.models.alexnet.AlexNet:: # /home/local/ZOHOCORP/abdul-pt6532/miniconda3/envs/py_torch/lib/python3.10/site-packages/torchvision/models/alexnet.py:49:0\n",
      "  %/classifier/classifier.1/Gemm_output_0 : Float(10, 4096, strides=[4096, 1], requires_grad=1, device=cpu) = onnx::Gemm[alpha=1., beta=1., transB=1, onnx_name=\"/classifier/classifier.1/Gemm\"](%/Flatten_output_0, %learned_10, %learned_11), scope: torchvision.models.alexnet.AlexNet::/torch.nn.modules.container.Sequential::classifier/torch.nn.modules.linear.Linear::classifier.1 # /home/local/ZOHOCORP/abdul-pt6532/miniconda3/envs/py_torch/lib/python3.10/site-packages/torch/nn/modules/linear.py:114:0\n",
      "  %/classifier/classifier.2/Relu_output_0 : Float(10, 4096, strides=[4096, 1], requires_grad=1, device=cpu) = onnx::Relu[onnx_name=\"/classifier/classifier.2/Relu\"](%/classifier/classifier.1/Gemm_output_0), scope: torchvision.models.alexnet.AlexNet::/torch.nn.modules.container.Sequential::classifier/torch.nn.modules.activation.ReLU::classifier.2 # /home/local/ZOHOCORP/abdul-pt6532/miniconda3/envs/py_torch/lib/python3.10/site-packages/torch/nn/functional.py:1453:0\n",
      "  %/classifier/classifier.4/Gemm_output_0 : Float(10, 4096, strides=[4096, 1], requires_grad=1, device=cpu) = onnx::Gemm[alpha=1., beta=1., transB=1, onnx_name=\"/classifier/classifier.4/Gemm\"](%/classifier/classifier.2/Relu_output_0, %learned_12, %learned_13), scope: torchvision.models.alexnet.AlexNet::/torch.nn.modules.container.Sequential::classifier/torch.nn.modules.linear.Linear::classifier.4 # /home/local/ZOHOCORP/abdul-pt6532/miniconda3/envs/py_torch/lib/python3.10/site-packages/torch/nn/modules/linear.py:114:0\n",
      "  %/classifier/classifier.5/Relu_output_0 : Float(10, 4096, strides=[4096, 1], requires_grad=1, device=cpu) = onnx::Relu[onnx_name=\"/classifier/classifier.5/Relu\"](%/classifier/classifier.4/Gemm_output_0), scope: torchvision.models.alexnet.AlexNet::/torch.nn.modules.container.Sequential::classifier/torch.nn.modules.activation.ReLU::classifier.5 # /home/local/ZOHOCORP/abdul-pt6532/miniconda3/envs/py_torch/lib/python3.10/site-packages/torch/nn/functional.py:1453:0\n",
      "  %output1 : Float(10, 1000, strides=[1000, 1], requires_grad=1, device=cpu) = onnx::Gemm[alpha=1., beta=1., transB=1, onnx_name=\"/classifier/classifier.6/Gemm\"](%/classifier/classifier.5/Relu_output_0, %learned_14, %learned_15), scope: torchvision.models.alexnet.AlexNet::/torch.nn.modules.container.Sequential::classifier/torch.nn.modules.linear.Linear::classifier.6 # /home/local/ZOHOCORP/abdul-pt6532/miniconda3/envs/py_torch/lib/python3.10/site-packages/torch/nn/modules/linear.py:114:0\n",
      "  return (%output1)\n",
      "\n"
     ]
    }
   ],
   "source": [
    "import torch\n",
    "import torchvision\n",
    "\n",
    "dummy_input = torch.randn(10, 3, 224, 224,)\n",
    "model = torchvision.models.alexnet(pretrained=True)\n",
    "\n",
    "# Providing input and output names sets the display names for values\n",
    "# within the model's graph. Setting these does not change the semantics\n",
    "# of the graph; it is only for readability.\n",
    "#\n",
    "# The inputs to the network consist of the flat list of inputs (i.e.\n",
    "# the values you would pass to the forward() method) followed by the\n",
    "# flat list of parameters. You can partially specify names, i.e. provide\n",
    "# a list here shorter than the number of inputs to the model, and we will\n",
    "# only set that subset of names, starting from the beginning.\n",
    "input_names = [ \"actual_input_1\" ] + [ \"learned_%d\" % i for i in range(16) ]\n",
    "output_names = [ \"output1\" ]\n",
    "\n",
    "torch.onnx.export(model, dummy_input, \"alexnet.onnx\", verbose=True, input_names=input_names, output_names=output_names)\n",
    "\n",
    "\n"
   ]
  },
  {
   "cell_type": "code",
   "execution_count": 3,
   "id": "573743f7",
   "metadata": {},
   "outputs": [
    {
     "name": "stdout",
     "output_type": "stream",
     "text": [
      "torch.Size([33968])\n"
     ]
    },
    {
     "data": {
      "image/png": "[encoded data removed]",
      "text/plain": [
       "<Figure size 640x480 with 1 Axes>"
      ]
     },
     "metadata": {},
     "output_type": "display_data"
    },
    {
     "name": "stdout",
     "output_type": "stream",
     "text": [
      "tensor([4.2617e+01, 3.4917e+01, 3.0868e+01,  ..., 4.1892e-03, 4.1811e-03,\n",
      "        4.1904e-03])\n"
     ]
    }
   ],
   "source": [
    "import torch\n",
    "import numpy as np\n",
    "import librosa\n",
    "import matplotlib.pyplot as plt\n",
    "\n",
    "def audio_to_magnitude(path):\n",
    "    # Load audio file\n",
    "    audio, sr = librosa.load(path)\n",
    "    \n",
    "    # Convert audio to tensor\n",
    "    audio = torch.tensor(audio, dtype=torch.float32)\n",
    "    print(audio.shape)\n",
    "    # Apply RFFT\n",
    "    audio_fft = torch.fft.rfft(audio)\n",
    "    \n",
    "    # Get magnitude\n",
    "    magnitude = torch.abs(audio_fft)\n",
    "    plt.plot(magnitude.numpy())\n",
    "    plt.title(\"Magnitude of Audio Signal\")\n",
    "    plt.xlabel(\"Sample\")\n",
    "    plt.ylabel(\"Amplitude\")\n",
    "    plt.show()\n",
    "    print(magnitude)\n",
    "    return magnitude\n",
    "\n",
    "audio_path=\"audio.wav\"\n",
    "\n",
    "mag=audio_to_magnitude(audio_path)\n"
   ]
  },
  {
   "cell_type": "code",
   "execution_count": null,
   "id": "a613175a",
   "metadata": {},
   "outputs": [],
   "source": [
    "import librosa\n",
    "import numpy as np\n",
    "import torch\n",
    "import matplotlib.pyplot as plt\n",
    "\n",
    "def get_magnitude(audio_file):\n",
    "    # Load the audio file\n",
    "    audio, sr = librosa.load(audio_file)\n",
    "\n",
    "    # Convert the audio signal to a PyTorch tensor\n",
    "    audio = torch.from_numpy(audio)\n",
    "\n",
    "    # Calculate the magnitude of the audio signal\n",
    "    magnitude = torch.abs(audio)\n",
    "\n",
    "    # Plot the magnitude of the audio signal\n",
    "    plt.plot(magnitude.numpy())\n",
    "    plt.title(\"Magnitude of Audio Signal\")\n",
    "    plt.xlabel(\"Sample\")\n",
    "    plt.ylabel(\"Amplitude\")\n",
    "    plt.show()\n",
    "\n",
    "    return magnitude\n",
    "\n",
    "# Use the function\n",
    "magnitude = get_magnitude(\"audio.wav\")\n",
    "print(magnitude)"
   ]
  },
  {
   "cell_type": "code",
   "execution_count": 5,
   "id": "f9c825c2",
   "metadata": {},
   "outputs": [
    {
     "name": "stdout",
     "output_type": "stream",
     "text": [
      "<class 'torch.nn.modules.container.Sequential'>\n",
      "Exported graph: graph(%audio : Float(1, 33968, strides=[33968, 1], requires_grad=0, device=cpu),\n",
      "      %0.weight : Float(1, 33968, strides=[33968, 1], requires_grad=1, device=cpu),\n",
      "      %0.bias : Float(1, strides=[1], requires_grad=1, device=cpu)):\n",
      "  %/0/Gemm_output_0 : Float(1, 1, strides=[1, 1], requires_grad=1, device=cpu) = onnx::Gemm[alpha=1., beta=1., transB=1, onnx_name=\"/0/Gemm\"](%audio, %0.weight, %0.bias), scope: torch.nn.modules.container.Sequential::/torch.nn.modules.linear.Linear::0 # /home/local/ZOHOCORP/abdul-pt6532/miniconda3/envs/py_torch/lib/python3.10/site-packages/torch/nn/modules/linear.py:114:0\n",
      "  %magnitude : Float(1, 1, strides=[1, 1], requires_grad=1, device=cpu) = onnx::Sigmoid[onnx_name=\"/1/Sigmoid\"](%/0/Gemm_output_0), scope: torch.nn.modules.container.Sequential::/torch.nn.modules.activation.Sigmoid::1 # /home/local/ZOHOCORP/abdul-pt6532/miniconda3/envs/py_torch/lib/python3.10/site-packages/torch/nn/modules/activation.py:294:0\n",
      "  return (%magnitude)\n",
      "\n"
     ]
    }
   ],
   "source": [
    "import librosa\n",
    "import numpy as np\n",
    "import torch\n",
    "import torch.onnx\n",
    "\n",
    "def get_magnitude(audio_file):\n",
    "    # Load the audio file\n",
    "    audio, sr = librosa.load(audio_file)\n",
    "\n",
    "    # Convert the audio signal to a PyTorch tensor\n",
    "    audio = torch.from_numpy(audio)\n",
    "    print(audio.shape())\n",
    "\n",
    "    # Calculate the magnitude of the audio signal\n",
    "    magnitude = torch.abs(audio)\n",
    "\n",
    "    return magnitude\n",
    "\n",
    "def export_to_onnx(audio_file):\n",
    "    # Load the audio file\n",
    "    audio, sr = librosa.load(audio_file)\n",
    "\n",
    "    # Convert the audio signal to a PyTorch tensor\n",
    "    audio = torch.from_numpy(audio).unsqueeze(0)\n",
    "\n",
    "    # Create a PyTorch model\n",
    "    model = torch.nn.Sequential(torch.nn.Linear(33968, 1), torch.nn.Sigmoid())\n",
    "    print(type(model))\n",
    "    # Export the PyTorch model to the ONNX format\n",
    "    torch.onnx.export(model, audio, \"magnitude.onnx\", input_names=[\"audio\"], output_names=[\"magnitude\"],verbose=True)\n",
    "\n",
    "# Use the function\n",
    "export_to_onnx(\"audio.wav\")"
   ]
  },
  {
   "cell_type": "code",
   "execution_count": null,
   "id": "2ddfa167",
   "metadata": {},
   "outputs": [],
   "source": [
    "import librosa\n",
    "import numpy as np\n",
    "import torch\n",
    "import torch.onnx\n",
    "\n",
    "def get_magnitude(audio_file):\n",
    "#     # Load the audio file\n",
    "#     audio, sr = librosa.load(audio_file)\n",
    "\n",
    "#     # Convert the audio signal to a PyTorch tensor\n",
    "#     audio = torch.from_numpy(audio).unsqueeze(0)\n",
    "\n",
    "#     # Calculate the magnitude of the audio signal\n",
    "    magnitude = torch.abs(audio)\n",
    "    \n",
    "    return magnitude\n",
    "\n",
    "def export_to_onnx(audio_file):\n",
    "    # Load the audio file\n",
    "    audio, sr = librosa.load(audio_file)\n",
    "\n",
    "    # Convert the audio signal to a PyTorch tensor\n",
    "    audio = torch.from_numpy(audio).unsqueeze(0)\n",
    "\n",
    "    # Export the magnitude calculation as an ONNX model\n",
    "    torch.onnx.export(get_magnitude, audio, \"magnitude.onnx\", input_names=[\"audio\"], output_names=[\"magnitude\"])\n",
    "    \n",
    "# Use the function\n",
    "export_to_onnx(\"audio.wav\")"
   ]
  },
  {
   "cell_type": "code",
   "execution_count": 9,
   "id": "6f83d710",
   "metadata": {},
   "outputs": [
    {
     "name": "stdout",
     "output_type": "stream",
     "text": [
      "(33968,)\n",
      "torch.Size([1, 33968])\n"
     ]
    },
    {
     "ename": "AttributeError",
     "evalue": "'function' object has no attribute 'modules'",
     "output_type": "error",
     "traceback": [
      "\u001b[0;31m---------------------------------------------------------------------------\u001b[0m",
      "\u001b[0;31mAttributeError\u001b[0m                            Traceback (most recent call last)",
      "Cell \u001b[0;32mIn [9], line 23\u001b[0m\n\u001b[1;32m     21\u001b[0m     \u001b[38;5;28mprint\u001b[39m(\u001b[38;5;28mtype\u001b[39m(get_magnitude))\n\u001b[1;32m     22\u001b[0m \u001b[38;5;66;03m# Use the function\u001b[39;00m\n\u001b[0;32m---> 23\u001b[0m \u001b[43mexport_to_onnx\u001b[49m\u001b[43m(\u001b[49m\u001b[38;5;124;43m\"\u001b[39;49m\u001b[38;5;124;43maudio.wav\u001b[39;49m\u001b[38;5;124;43m\"\u001b[39;49m\u001b[43m)\u001b[49m\n",
      "Cell \u001b[0;32mIn [9], line 20\u001b[0m, in \u001b[0;36mexport_to_onnx\u001b[0;34m(audio_file)\u001b[0m\n\u001b[1;32m     18\u001b[0m \u001b[38;5;28mprint\u001b[39m(audio\u001b[38;5;241m.\u001b[39mshape)\n\u001b[1;32m     19\u001b[0m \u001b[38;5;66;03m# Export the magnitude calculation as an ONNX model\u001b[39;00m\n\u001b[0;32m---> 20\u001b[0m \u001b[43mtorch\u001b[49m\u001b[38;5;241;43m.\u001b[39;49m\u001b[43monnx\u001b[49m\u001b[38;5;241;43m.\u001b[39;49m\u001b[43mexport\u001b[49m\u001b[43m(\u001b[49m\u001b[43mget_magnitude\u001b[49m\u001b[43m,\u001b[49m\u001b[43m \u001b[49m\u001b[43maudio\u001b[49m\u001b[43m,\u001b[49m\u001b[43m \u001b[49m\u001b[38;5;124;43m\"\u001b[39;49m\u001b[38;5;124;43mmagnitude.onnx\u001b[39;49m\u001b[38;5;124;43m\"\u001b[39;49m\u001b[43m,\u001b[49m\u001b[43m \u001b[49m\u001b[43minput_names\u001b[49m\u001b[38;5;241;43m=\u001b[39;49m\u001b[43m[\u001b[49m\u001b[38;5;124;43m\"\u001b[39;49m\u001b[38;5;124;43maudio\u001b[39;49m\u001b[38;5;124;43m\"\u001b[39;49m\u001b[43m]\u001b[49m\u001b[43m,\u001b[49m\u001b[43m \u001b[49m\u001b[43moutput_names\u001b[49m\u001b[38;5;241;43m=\u001b[39;49m\u001b[43m[\u001b[49m\u001b[38;5;124;43m\"\u001b[39;49m\u001b[38;5;124;43mmagnitude\u001b[39;49m\u001b[38;5;124;43m\"\u001b[39;49m\u001b[43m]\u001b[49m\u001b[43m)\u001b[49m\n\u001b[1;32m     21\u001b[0m \u001b[38;5;28mprint\u001b[39m(\u001b[38;5;28mtype\u001b[39m(get_magnitude))\n",
      "File \u001b[0;32m~/miniconda3/envs/py_torch/lib/python3.10/site-packages/torch/onnx/utils.py:504\u001b[0m, in \u001b[0;36mexport\u001b[0;34m(model, args, f, export_params, verbose, training, input_names, output_names, operator_export_type, opset_version, do_constant_folding, dynamic_axes, keep_initializers_as_inputs, custom_opsets, export_modules_as_functions)\u001b[0m\n\u001b[1;32m    186\u001b[0m \u001b[38;5;129m@_beartype\u001b[39m\u001b[38;5;241m.\u001b[39mbeartype\n\u001b[1;32m    187\u001b[0m \u001b[38;5;28;01mdef\u001b[39;00m \u001b[38;5;21mexport\u001b[39m(\n\u001b[1;32m    188\u001b[0m     model: Union[torch\u001b[38;5;241m.\u001b[39mnn\u001b[38;5;241m.\u001b[39mModule, torch\u001b[38;5;241m.\u001b[39mjit\u001b[38;5;241m.\u001b[39mScriptModule, torch\u001b[38;5;241m.\u001b[39mjit\u001b[38;5;241m.\u001b[39mScriptFunction],\n\u001b[0;32m   (...)\u001b[0m\n\u001b[1;32m    204\u001b[0m     export_modules_as_functions: Union[\u001b[38;5;28mbool\u001b[39m, Collection[Type[torch\u001b[38;5;241m.\u001b[39mnn\u001b[38;5;241m.\u001b[39mModule]]] \u001b[38;5;241m=\u001b[39m \u001b[38;5;28;01mFalse\u001b[39;00m,\n\u001b[1;32m    205\u001b[0m ) \u001b[38;5;241m-\u001b[39m\u001b[38;5;241m>\u001b[39m \u001b[38;5;28;01mNone\u001b[39;00m:\n\u001b[1;32m    206\u001b[0m     \u001b[38;5;124mr\u001b[39m\u001b[38;5;124;03m\"\"\"Exports a model into ONNX format.\u001b[39;00m\n\u001b[1;32m    207\u001b[0m \n\u001b[1;32m    208\u001b[0m \u001b[38;5;124;03m    If ``model`` is not a :class:`torch.jit.ScriptModule` nor a\u001b[39;00m\n\u001b[0;32m   (...)\u001b[0m\n\u001b[1;32m    501\u001b[0m \u001b[38;5;124;03m            All errors are subclasses of :class:`errors.OnnxExporterError`.\u001b[39;00m\n\u001b[1;32m    502\u001b[0m \u001b[38;5;124;03m    \"\"\"\u001b[39;00m\n\u001b[0;32m--> 504\u001b[0m     \u001b[43m_export\u001b[49m\u001b[43m(\u001b[49m\n\u001b[1;32m    505\u001b[0m \u001b[43m        \u001b[49m\u001b[43mmodel\u001b[49m\u001b[43m,\u001b[49m\n\u001b[1;32m    506\u001b[0m \u001b[43m        \u001b[49m\u001b[43margs\u001b[49m\u001b[43m,\u001b[49m\n\u001b[1;32m    507\u001b[0m \u001b[43m        \u001b[49m\u001b[43mf\u001b[49m\u001b[43m,\u001b[49m\n\u001b[1;32m    508\u001b[0m \u001b[43m        \u001b[49m\u001b[43mexport_params\u001b[49m\u001b[43m,\u001b[49m\n\u001b[1;32m    509\u001b[0m \u001b[43m        \u001b[49m\u001b[43mverbose\u001b[49m\u001b[43m,\u001b[49m\n\u001b[1;32m    510\u001b[0m \u001b[43m        \u001b[49m\u001b[43mtraining\u001b[49m\u001b[43m,\u001b[49m\n\u001b[1;32m    511\u001b[0m \u001b[43m        \u001b[49m\u001b[43minput_names\u001b[49m\u001b[43m,\u001b[49m\n\u001b[1;32m    512\u001b[0m \u001b[43m        \u001b[49m\u001b[43moutput_names\u001b[49m\u001b[43m,\u001b[49m\n\u001b[1;32m    513\u001b[0m \u001b[43m        \u001b[49m\u001b[43moperator_export_type\u001b[49m\u001b[38;5;241;43m=\u001b[39;49m\u001b[43moperator_export_type\u001b[49m\u001b[43m,\u001b[49m\n\u001b[1;32m    514\u001b[0m \u001b[43m        \u001b[49m\u001b[43mopset_version\u001b[49m\u001b[38;5;241;43m=\u001b[39;49m\u001b[43mopset_version\u001b[49m\u001b[43m,\u001b[49m\n\u001b[1;32m    515\u001b[0m \u001b[43m        \u001b[49m\u001b[43mdo_constant_folding\u001b[49m\u001b[38;5;241;43m=\u001b[39;49m\u001b[43mdo_constant_folding\u001b[49m\u001b[43m,\u001b[49m\n\u001b[1;32m    516\u001b[0m \u001b[43m        \u001b[49m\u001b[43mdynamic_axes\u001b[49m\u001b[38;5;241;43m=\u001b[39;49m\u001b[43mdynamic_axes\u001b[49m\u001b[43m,\u001b[49m\n\u001b[1;32m    517\u001b[0m \u001b[43m        \u001b[49m\u001b[43mkeep_initializers_as_inputs\u001b[49m\u001b[38;5;241;43m=\u001b[39;49m\u001b[43mkeep_initializers_as_inputs\u001b[49m\u001b[43m,\u001b[49m\n\u001b[1;32m    518\u001b[0m \u001b[43m        \u001b[49m\u001b[43mcustom_opsets\u001b[49m\u001b[38;5;241;43m=\u001b[39;49m\u001b[43mcustom_opsets\u001b[49m\u001b[43m,\u001b[49m\n\u001b[1;32m    519\u001b[0m \u001b[43m        \u001b[49m\u001b[43mexport_modules_as_functions\u001b[49m\u001b[38;5;241;43m=\u001b[39;49m\u001b[43mexport_modules_as_functions\u001b[49m\u001b[43m,\u001b[49m\n\u001b[1;32m    520\u001b[0m \u001b[43m    \u001b[49m\u001b[43m)\u001b[49m\n",
      "File \u001b[0;32m~/miniconda3/envs/py_torch/lib/python3.10/site-packages/torch/onnx/utils.py:1506\u001b[0m, in \u001b[0;36m_export\u001b[0;34m(model, args, f, export_params, verbose, training, input_names, output_names, operator_export_type, export_type, opset_version, do_constant_folding, dynamic_axes, keep_initializers_as_inputs, fixed_batch_size, custom_opsets, add_node_names, onnx_shape_inference, export_modules_as_functions)\u001b[0m\n\u001b[1;32m   1501\u001b[0m \u001b[38;5;28;01mif\u001b[39;00m \u001b[38;5;28misinstance\u001b[39m(model, (torch\u001b[38;5;241m.\u001b[39mnn\u001b[38;5;241m.\u001b[39mModule, torch\u001b[38;5;241m.\u001b[39mjit\u001b[38;5;241m.\u001b[39mScriptModule)):\n\u001b[1;32m   1502\u001b[0m     module_typenames_to_export_as_functions \u001b[38;5;241m=\u001b[39m _setup_trace_module_map(\n\u001b[1;32m   1503\u001b[0m         model, export_modules_as_functions\n\u001b[1;32m   1504\u001b[0m     )\n\u001b[0;32m-> 1506\u001b[0m \u001b[38;5;28;01mwith\u001b[39;00m exporter_context(model, training, verbose):\n\u001b[1;32m   1507\u001b[0m     val_keep_init_as_ip \u001b[38;5;241m=\u001b[39m _decide_keep_init_as_input(\n\u001b[1;32m   1508\u001b[0m         keep_initializers_as_inputs,\n\u001b[1;32m   1509\u001b[0m         operator_export_type,\n\u001b[1;32m   1510\u001b[0m         opset_version,\n\u001b[1;32m   1511\u001b[0m     )\n\u001b[1;32m   1512\u001b[0m     val_add_node_names \u001b[38;5;241m=\u001b[39m _decide_add_node_names(\n\u001b[1;32m   1513\u001b[0m         add_node_names, operator_export_type\n\u001b[1;32m   1514\u001b[0m     )\n",
      "File \u001b[0;32m~/miniconda3/envs/py_torch/lib/python3.10/contextlib.py:135\u001b[0m, in \u001b[0;36m_GeneratorContextManager.__enter__\u001b[0;34m(self)\u001b[0m\n\u001b[1;32m    133\u001b[0m \u001b[38;5;28;01mdel\u001b[39;00m \u001b[38;5;28mself\u001b[39m\u001b[38;5;241m.\u001b[39margs, \u001b[38;5;28mself\u001b[39m\u001b[38;5;241m.\u001b[39mkwds, \u001b[38;5;28mself\u001b[39m\u001b[38;5;241m.\u001b[39mfunc\n\u001b[1;32m    134\u001b[0m \u001b[38;5;28;01mtry\u001b[39;00m:\n\u001b[0;32m--> 135\u001b[0m     \u001b[38;5;28;01mreturn\u001b[39;00m \u001b[38;5;28;43mnext\u001b[39;49m\u001b[43m(\u001b[49m\u001b[38;5;28;43mself\u001b[39;49m\u001b[38;5;241;43m.\u001b[39;49m\u001b[43mgen\u001b[49m\u001b[43m)\u001b[49m\n\u001b[1;32m    136\u001b[0m \u001b[38;5;28;01mexcept\u001b[39;00m \u001b[38;5;167;01mStopIteration\u001b[39;00m:\n\u001b[1;32m    137\u001b[0m     \u001b[38;5;28;01mraise\u001b[39;00m \u001b[38;5;167;01mRuntimeError\u001b[39;00m(\u001b[38;5;124m\"\u001b[39m\u001b[38;5;124mgenerator didn\u001b[39m\u001b[38;5;124m'\u001b[39m\u001b[38;5;124mt yield\u001b[39m\u001b[38;5;124m\"\u001b[39m) \u001b[38;5;28;01mfrom\u001b[39;00m \u001b[38;5;28mNone\u001b[39m\n",
      "File \u001b[0;32m~/miniconda3/envs/py_torch/lib/python3.10/site-packages/torch/onnx/utils.py:176\u001b[0m, in \u001b[0;36mexporter_context\u001b[0;34m(model, mode, verbose)\u001b[0m\n\u001b[1;32m    173\u001b[0m \u001b[38;5;129m@contextlib\u001b[39m\u001b[38;5;241m.\u001b[39mcontextmanager\n\u001b[1;32m    174\u001b[0m \u001b[38;5;129m@_beartype\u001b[39m\u001b[38;5;241m.\u001b[39mbeartype\n\u001b[1;32m    175\u001b[0m \u001b[38;5;28;01mdef\u001b[39;00m \u001b[38;5;21mexporter_context\u001b[39m(model, mode: _C_onnx\u001b[38;5;241m.\u001b[39mTrainingMode, verbose: \u001b[38;5;28mbool\u001b[39m):\n\u001b[0;32m--> 176\u001b[0m     \u001b[38;5;28;01mwith\u001b[39;00m select_model_mode_for_export(\n\u001b[1;32m    177\u001b[0m         model, mode\n\u001b[1;32m    178\u001b[0m     ) \u001b[38;5;28;01mas\u001b[39;00m mode_ctx, disable_apex_o2_state_dict_hook(\n\u001b[1;32m    179\u001b[0m         model\n\u001b[1;32m    180\u001b[0m     ) \u001b[38;5;28;01mas\u001b[39;00m apex_ctx, setup_onnx_logging(\n\u001b[1;32m    181\u001b[0m         verbose\n\u001b[1;32m    182\u001b[0m     ) \u001b[38;5;28;01mas\u001b[39;00m log_ctx, diagnostics\u001b[38;5;241m.\u001b[39mcreate_export_diagnostic_context() \u001b[38;5;28;01mas\u001b[39;00m diagnostic_ctx:\n\u001b[1;32m    183\u001b[0m         \u001b[38;5;28;01myield\u001b[39;00m (mode_ctx, apex_ctx, log_ctx, diagnostic_ctx)\n",
      "File \u001b[0;32m~/miniconda3/envs/py_torch/lib/python3.10/contextlib.py:135\u001b[0m, in \u001b[0;36m_GeneratorContextManager.__enter__\u001b[0;34m(self)\u001b[0m\n\u001b[1;32m    133\u001b[0m \u001b[38;5;28;01mdel\u001b[39;00m \u001b[38;5;28mself\u001b[39m\u001b[38;5;241m.\u001b[39margs, \u001b[38;5;28mself\u001b[39m\u001b[38;5;241m.\u001b[39mkwds, \u001b[38;5;28mself\u001b[39m\u001b[38;5;241m.\u001b[39mfunc\n\u001b[1;32m    134\u001b[0m \u001b[38;5;28;01mtry\u001b[39;00m:\n\u001b[0;32m--> 135\u001b[0m     \u001b[38;5;28;01mreturn\u001b[39;00m \u001b[38;5;28;43mnext\u001b[39;49m\u001b[43m(\u001b[49m\u001b[38;5;28;43mself\u001b[39;49m\u001b[38;5;241;43m.\u001b[39;49m\u001b[43mgen\u001b[49m\u001b[43m)\u001b[49m\n\u001b[1;32m    136\u001b[0m \u001b[38;5;28;01mexcept\u001b[39;00m \u001b[38;5;167;01mStopIteration\u001b[39;00m:\n\u001b[1;32m    137\u001b[0m     \u001b[38;5;28;01mraise\u001b[39;00m \u001b[38;5;167;01mRuntimeError\u001b[39;00m(\u001b[38;5;124m\"\u001b[39m\u001b[38;5;124mgenerator didn\u001b[39m\u001b[38;5;124m'\u001b[39m\u001b[38;5;124mt yield\u001b[39m\u001b[38;5;124m\"\u001b[39m) \u001b[38;5;28;01mfrom\u001b[39;00m \u001b[38;5;28mNone\u001b[39m\n",
      "File \u001b[0;32m~/miniconda3/envs/py_torch/lib/python3.10/site-packages/torch/onnx/utils.py:137\u001b[0m, in \u001b[0;36mdisable_apex_o2_state_dict_hook\u001b[0;34m(model)\u001b[0m\n\u001b[1;32m    135\u001b[0m \u001b[38;5;28;01mif\u001b[39;00m \u001b[38;5;129;01mnot\u001b[39;00m \u001b[38;5;28misinstance\u001b[39m(model, torch\u001b[38;5;241m.\u001b[39mjit\u001b[38;5;241m.\u001b[39mScriptFunction):\n\u001b[1;32m    136\u001b[0m     model_hooks \u001b[38;5;241m=\u001b[39m {}  \u001b[38;5;66;03m# type: ignore[var-annotated]\u001b[39;00m\n\u001b[0;32m--> 137\u001b[0m     \u001b[38;5;28;01mfor\u001b[39;00m module \u001b[38;5;129;01min\u001b[39;00m model\u001b[38;5;241m.\u001b[39mmodules():\n\u001b[1;32m    138\u001b[0m         \u001b[38;5;28;01mfor\u001b[39;00m key, hook \u001b[38;5;129;01min\u001b[39;00m module\u001b[38;5;241m.\u001b[39m_state_dict_hooks\u001b[38;5;241m.\u001b[39mitems():\n\u001b[1;32m    139\u001b[0m             \u001b[38;5;28;01mif\u001b[39;00m \u001b[38;5;28mtype\u001b[39m(hook)\u001b[38;5;241m.\u001b[39m\u001b[38;5;18m__name__\u001b[39m \u001b[38;5;241m==\u001b[39m \u001b[38;5;124m\"\u001b[39m\u001b[38;5;124mO2StateDictHook\u001b[39m\u001b[38;5;124m\"\u001b[39m:\n",
      "\u001b[0;31mAttributeError\u001b[0m: 'function' object has no attribute 'modules'"
     ]
    }
   ],
   "source": [
    "import librosa\n",
    "import numpy as np\n",
    "import torch\n",
    "import torch.onnx\n",
    "\n",
    "def get_magnitude(audio):\n",
    "    # Calculate the magnitude of the audio signal\n",
    "    magnitude = torch.abs(audio)\n",
    "    \n",
    "    return magnitude\n",
    "\n",
    "def export_to_onnx(audio_file):\n",
    "    # Load the audio file\n",
    "    audio, sr = librosa.load(audio_file)\n",
    "    print(audio.shape)\n",
    "    # Convert the audio signal to a PyTorch tensor\n",
    "    audio = torch.from_numpy(audio).unsqueeze(0)\n",
    "    print(audio.shape)\n",
    "    # Export the magnitude calculation as an ONNX model\n",
    "    torch.onnx.export(get_magnitude, audio, \"magnitude.onnx\", input_names=[\"audio\"], output_names=[\"magnitude\"])\n",
    "    print(type(get_magnitude))\n",
    "# Use the function\n",
    "export_to_onnx(\"audio.wav\")"
   ]
  },
  {
   "cell_type": "code",
   "execution_count": 8,
   "id": "8c8d386e",
   "metadata": {},
   "outputs": [
    {
     "name": "stdout",
     "output_type": "stream",
     "text": [
      "<class 'torch.Tensor'>\n"
     ]
    }
   ],
   "source": [
    "import torch\n",
    "import torch.nn as nn\n",
    "\n",
    "class MagnitudeModule(nn.Module):\n",
    "    def forward(self, audio):\n",
    "        magnitude = torch.abs(audio)\n",
    "        print(type(magnitude))\n",
    "        \n",
    "        return magnitude\n",
    "\n",
    "def export_to_onnx(audio_file):\n",
    "    # Load audio file\n",
    "    \n",
    "    audio, sr = librosa.load(audio_file)\n",
    "\n",
    "    \n",
    "    \n",
    "    # Convert audio to tensor\n",
    "    audio = torch.from_numpy(audio).unsqueeze(0)\n",
    "    \n",
    "    # Create instance of MagnitudeModule\n",
    "    magnitude_module = MagnitudeModule()\n",
    "    \n",
    "    # Export the magnitude calculation as an ONNX model\n",
    "    torch.onnx.export(magnitude_module, audio, \"magnitude.onnx\", input_names=[\"audio\"], output_names=[\"magnitude\"])\n",
    "\n",
    "export_to_onnx(\"audio.wav\")"
   ]
  },
  {
   "cell_type": "code",
   "execution_count": null,
   "id": "08afd500",
   "metadata": {},
   "outputs": [],
   "source": []
  },
  {
   "cell_type": "code",
   "execution_count": null,
   "id": "3b826d66",
   "metadata": {},
   "outputs": [],
   "source": []
  }
 ],
 "metadata": {
  "kernelspec": {
   "display_name": "Python 3 (ipykernel)",
   "language": "python",
   "name": "python3"
  },
  "language_info": {
   "codemirror_mode": {
    "name": "ipython",
    "version": 3
   },
   "file_extension": ".py",
   "mimetype": "text/x-python",
   "name": "python",
   "nbconvert_exporter": "python",
   "pygments_lexer": "ipython3",
   "version": "3.10.8"
  }
 },
 "nbformat": 4,
 "nbformat_minor": 5
}
