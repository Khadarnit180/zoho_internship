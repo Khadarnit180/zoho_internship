{
  "cells": [
    {
      "cell_type": "code",
      "execution_count": 37,
      "id": "f8dac6d1",
      "metadata": {
        "id": "f8dac6d1"
      },
      "outputs": [],
      "source": [
        "import time\n",
        "import torch\n",
        "from torch import nn\n",
        "from torchvision import datasets, transforms"
      ]
    },
    {
      "cell_type": "code",
      "execution_count": 38,
      "id": "33f3603f",
      "metadata": {
        "id": "33f3603f"
      },
      "outputs": [],
      "source": [
        "\n",
        "transform = transforms.Compose([transforms.ToTensor(),\n",
        "                                transforms.Normalize((0.5,), (0.5,)),\n",
        "                              ])\n",
        "\n",
        "batch_size=100\n",
        "trainset = datasets.MNIST('~/.pytorch/MNIST_data/', download=True, train=True, transform=transform)\n",
        "trainloader = torch.utils.data.DataLoader(trainset, batch_size=batch_size, shuffle=True)\n",
        "\n",
        "testset=datasets.MNIST('~/.pytorch/MNIST_data/',download=True,train=False,transform=transform)\n",
        "testloader = torch.utils.data.DataLoader(testset, batch_size=batch_size, shuffle=False)\n"
      ]
    },
    {
      "cell_type": "code",
      "execution_count": 39,
      "id": "32684ca9",
      "metadata": {
        "id": "32684ca9"
      },
      "outputs": [],
      "source": [
        "class Network(nn.Module):\n",
        "    def __init__(self):\n",
        "        super().__init__()\n",
        "        self.flatten=nn.Flatten()\n",
        "        self.linear=nn.Linear(784,10)\n",
        "    def forward(self, x):\n",
        "        #x = x.view(-1,28 * 28)\n",
        "        x=self.flatten(x)\n",
        "        x=self.linear(x)\n",
        "        return x\n",
        "model=Network()"
      ]
    },
    {
      "cell_type": "code",
      "source": [
        "#training\n",
        "learning_rate=0.001\n",
        "epochs=30\n",
        "criterion = nn.CrossEntropyLoss()\n",
        "optimizer = torch.optim.SGD(model.parameters(), lr=learning_rate)\n",
        "for e in range(epochs):\n",
        "    correct=0\n",
        "    for (images, labels) in (trainloader):\n",
        "        optimizer.zero_grad()\n",
        "        output = model(images)\n",
        "        loss = criterion(output, labels)\n",
        "        loss.backward()\n",
        "        optimizer.step()\n",
        "        _,pred=torch.max(output.data,1)\n",
        "        correct+=(pred==labels).sum() \n",
        "print(f\"epoch: {e+1} , Training loss: {loss.item()},accuracy:{(correct/len(trainset))*100:.2f},%\")"
      ],
      "metadata": {
        "colab": {
          "base_uri": "https://localhost:8080/"
        },
        "id": "IpgH_005VMk9",
        "outputId": "793f9b94-aff3-41da-e3d8-5576faa0d67d"
      },
      "id": "IpgH_005VMk9",
      "execution_count": 40,
      "outputs": [
        {
          "output_type": "stream",
          "name": "stdout",
          "text": [
            "epoch: 30 , Training loss: 0.3234269618988037,accuracy:89.89,%\n"
          ]
        }
      ]
    },
    {
      "cell_type": "code",
      "source": [
        "#half of the learning rate \n",
        "#training\n",
        "learning_rate=0.001/2\n",
        "epochs=30\n",
        "criterion = nn.CrossEntropyLoss()\n",
        "optimizer = torch.optim.SGD(model.parameters(), lr=learning_rate)\n",
        "for e in range(epochs):\n",
        "    correct=0\n",
        "    for (images, labels) in (trainloader):\n",
        "        optimizer.zero_grad()\n",
        "        output = model(images)\n",
        "        loss = criterion(output, labels)\n",
        "        loss.backward()\n",
        "        optimizer.step()\n",
        "        _,pred=torch.max(output.data,1)\n",
        "        correct+=(pred==labels).sum() \n",
        "print(f\"epoch: {e+1} , Training loss: {loss.item()},accuracy :{(correct/len(trainset))*100:.2f}%\")\n",
        "print(f\"hyper parameters:\\n  learning rate:{learning_rate} ,batch size {batch_size},epochs:{epochs}\")\n",
        "print()\n",
        "print(\"model parameters\",model)"
      ],
      "metadata": {
        "colab": {
          "base_uri": "https://localhost:8080/"
        },
        "id": "MNRXy4sglbxU",
        "outputId": "216ca3eb-251b-487d-a328-80c85b48f8bf"
      },
      "id": "MNRXy4sglbxU",
      "execution_count": 41,
      "outputs": [
        {
          "output_type": "stream",
          "name": "stdout",
          "text": [
            "epoch: 30 , Training loss: 0.5945714116096497,accuracy :90.49%\n",
            "hyper parameters:\n",
            "  learning rate:0.0005 ,batch size 100,epochs:30\n",
            "\n",
            "model parameters Network(\n",
            "  (flatten): Flatten(start_dim=1, end_dim=-1)\n",
            "  (linear): Linear(in_features=784, out_features=10, bias=True)\n",
            ")\n"
          ]
        }
      ]
    },
    {
      "cell_type": "code",
      "source": [],
      "metadata": {
        "id": "RoLSty8eICB-"
      },
      "id": "RoLSty8eICB-",
      "execution_count": null,
      "outputs": []
    },
    {
      "cell_type": "markdown",
      "source": [
        "# conclusion: acucuracy improved when learning rate decreses to 0.0001 to 0.0001/2"
      ],
      "metadata": {
        "id": "8h5wPqIlIDPP"
      },
      "id": "8h5wPqIlIDPP"
    },
    {
      "cell_type": "code",
      "source": [],
      "metadata": {
        "id": "hKHpgn_kIS1H"
      },
      "id": "hKHpgn_kIS1H",
      "execution_count": null,
      "outputs": []
    }
  ],
  "metadata": {
    "kernelspec": {
      "display_name": "Python 3 (ipykernel)",
      "language": "python",
      "name": "python3"
    },
    "language_info": {
      "codemirror_mode": {
        "name": "ipython",
        "version": 3
      },
      "file_extension": ".py",
      "mimetype": "text/x-python",
      "name": "python",
      "nbconvert_exporter": "python",
      "pygments_lexer": "ipython3",
      "version": "3.10.8"
    },
    "colab": {
      "provenance": []
    },
    "gpuClass": "standard"
  },
  "nbformat": 4,
  "nbformat_minor": 5
}
